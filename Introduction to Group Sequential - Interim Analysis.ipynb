{
 "cells": [
  {
   "cell_type": "markdown",
   "metadata": {},
   "source": [
    "The notebooks helps in understanding the common painpoints in the Fixed Sample size Testing approach and how group sequential experimentation method helps in overcoming them. \n",
    "\n",
    "#### Topic Covered:\n",
    "\n",
    "1. Pitfalls in Fixed Sample size Testing Approach\n",
    "2. Introduction to Group Sequential A/B Testing\n",
    "3. How Group Sequential Analysis handles the Pitfalls of Fixed Sample size Testing Approach\n",
    "    + Alpha and Beta Spending Functions\n",
    "    + Test for Efficacy and Futility\n",
    "4. Designing the Group Sequential Analysis\n",
    "5. Walkthrough With Demo\n",
    "6. Reference Resources"
   ]
  },
  {
   "cell_type": "markdown",
   "metadata": {},
   "source": [
    "### 1. Pitfalls in Fixed Sample Size Approach"
   ]
  },
  {
   "cell_type": "markdown",
   "metadata": {},
   "source": [
    "In the fixed sample size design approach, we calculate the sample size with the defined paramters expected Delta in Treatment, Alpha and Beta and wait till the experiment reaches the calcuated sample size. \n",
    "\n",
    "Most of the cases, when the sample size is large value which may extend the waiting to 1-2 months for getting the idea of whether the experiment is successfull or degrading.\n",
    "\n",
    "Usually, Product team would be really interested in understanding whether the new experience is improving or degrading the experience for the end consumer. They expect an early result to decide whether to rollout to more users or stop the initiative which would results in cost saving and also reduce the impact.\n",
    "\n",
    "#### a. Peeking issue in Fixed Sample Size Design:\n",
    "When we look at the interim stages of the fixed sample design and evalute the performance of the experiment with the prefined Type I error (Alpha). We are actually increasing the False Positive Rate (Alpha/Type I Error)\n",
    "\n",
    "Lets take an example: We are looking at the experiment performance  as we reach 33%, 66% and 100% of the fixed sample size(300). We are checking whether the treatment performs better than control at 2.5% Type I error at each analysis. "
   ]
  },
  {
   "cell_type": "code",
   "execution_count": null,
   "metadata": {},
   "outputs": [],
   "source": [
    "install.packages(\"gsDesign\")\n",
    "library(gsDesign)\n",
    "gsProbability(k=3,theta=0,n.I = c(100,200,300),a=array(-20,3),b=array(qnorm(0.975),3))"
   ]
  },
  {
   "cell_type": "markdown",
   "metadata": {},
   "source": [
    "<b> Based on the above results, effectively there are 5.3% chances that the results may be false positive \n",
    "whereas we fixed the tolerance level to 2.5% (False Positive Rate/Type I Error/ Alpha). <b>"
   ]
  },
  {
   "cell_type": "markdown",
   "metadata": {},
   "source": [
    "#### b. Ability to stop the analysis early in either cases of efficacy or futility"
   ]
  },
  {
   "cell_type": "markdown",
   "metadata": {},
   "source": [
    "Fixed design doesn't help us in identifying \n",
    "\n",
    "+ Treatment performing lesser than the control and also will not result in positive benefits \n",
    "at the end of experiment. This ability to idenitying the poor performance will help us in saving the efforts \n",
    "and resources.\n",
    "\n",
    "+ Treatment performing better than the control at the statistically significant leve at the early stage.\n",
    "So that the feature can be rolled out for broader segment\n",
    "\n",
    "\n"
   ]
  },
  {
   "cell_type": "markdown",
   "metadata": {},
   "source": [
    "### 2. Introduction to Group Sequential Testing"
   ]
  },
  {
   "cell_type": "markdown",
   "metadata": {},
   "source": [
    "Group Sequential Testing is part of adaptive designing practice which helps us in \n",
    "evaluting the performance as the data flows in and help us in deciding the winner at the early stage. \n",
    "\n",
    "This approach provides us the flexibility to perform analysis at different time interval and also ensuring that the \n",
    "design parameters are honored throughout the experiment."
   ]
  },
  {
   "cell_type": "markdown",
   "metadata": {},
   "source": [
    "### 3. Handling the pitfalls of Fixed Sample Design"
   ]
  },
  {
   "cell_type": "markdown",
   "metadata": {},
   "source": [
    "#### a. Alpha and Beta Spending Functions:\n",
    "\n",
    "Group sequential testing leverages the Alpha and Beta Spending Functions to allocate \n",
    "the Type I and Type II error for each of the Interim analysis. Usually, They spend less value at the initial stages\n",
    "of the test and increase over the time.\n",
    "\n",
    "There are primarily two approaches for Spending the Type I and Type II error:\n",
    "\n",
    "1. <b>Error Spending Functions:</b> The error spending decides the critical \n",
    "   value based on the alpha and beta which has to be spent at the specific interim analysis.\n",
    "   \n",
    "   We will be using <b> gamma error spending function </b>\n",
    "   \n",
    "   The gamma error spending function (Hwang, Shih, and DeCani 1990) specifies a gamma cumulative \n",
    "   error spending function indexed by the gamma parameter . The boundaries created with  are similar to \n",
    "   the boundaries from the Pocock method, and the boundaries created with  or  \n",
    "   are similar to the boundaries from the O’Brien-Fleming method.\n",
    "\n",
    "<b> Plot illustrate the spending pattern of gamma functions. i.e the lower the gamma value, strigent the alpha and beta spending function </b>\n",
    " "
   ]
  },
  {
   "cell_type": "code",
   "execution_count": null,
   "metadata": {},
   "outputs": [],
   "source": [
    "plot(0:100/100, sfHSD(.025, 0:100/100, -4)$spend, type=\"l\", lwd=2,\n",
    "  xlab=\"Proportion of information\",\n",
    "  ylab=expression(paste(\"Cumulative \\ \",alpha,\"-spending\")),\n",
    "  main=\"Hwang-Shih-DeCani Spending Functions\")\n",
    "\n",
    "lines(0:100/100, sfHSD(.025, 0:100/100, -2)$spend, lty=2, lwd=2)\n",
    "lines(0:100/100, sfHSD(.025, 0:100/100, 1)$spend, lty=3, lwd=2)\n",
    "\n",
    "legend(x=c(.0, .27), y=.025 * c(.8, 1), lty=1:3, lwd=2,legend=c(expression(paste(gamma,\" = -4\")),\n",
    "expression(paste(gamma,\" = -2\")),expression(paste(gamma,\" = 1\"))))"
   ]
  },
  {
   "cell_type": "markdown",
   "metadata": {},
   "source": [
    "2. <b> Boundary Family Functions: </b> The functions specifies how big boundary values should be relative to each other and adjust these relative values by a constant multiple to controll overall error rates. The commonly applied boundary family approach uses the wang-Tsiatis family which includes bounds by Pocock and O'Brien and Fleming.\n",
    "<b> They are generally used with the equally spaced interim analysis </b>\n",
    "\n",
    "For example: Pocock approach allocates the error spending value equally to each interim analysis. i.e 0.05/3 for each analysis.\n",
    "\n",
    "<b> Usefull resource </b>\n",
    "https://support.sas.com/documentation/cdl/en/statug/63033/HTML/default/viewer.htm#statug_seqdesign_sect030.htm\n",
    "\n"
   ]
  },
  {
   "cell_type": "markdown",
   "metadata": {},
   "source": [
    "#### b.Test for Efficacy and Futility"
   ]
  },
  {
   "cell_type": "markdown",
   "metadata": {},
   "source": [
    "In group sequential testing, Error spending functions helps us in defining the boundary for Efficacy (alpha boundary) \n",
    "and futility boundary (beta boundary). With the help of this critical value, we can decide \n",
    "whether to accept the treatment as winner or control as winner. \n",
    "\n",
    "There are cases where business wants not to stop the experiment eventhough the treatment is \n",
    "performing lesser than control in the initial stages. Group Sequential testing helps us design the experiment \n",
    "to accodomate both to stop <b>(Binding)</b> or continue eventhough the test statistics crossed the futility boundary<b>(Non Binding)</b>."
   ]
  },
  {
   "cell_type": "code",
   "execution_count": null,
   "metadata": {},
   "outputs": [],
   "source": [
    "# Cumulative proportion of spending planned at each analysis\n",
    "# In this case, this is also proportion of final observations at each interim\n",
    "p <- c(.25, .5, .75)\n",
    "t <- c(.25,.5,.75)\n",
    "# Cumulative spending intended at each analysis (for illustration)\n",
    "p * 0.025\n",
    "n.fix <- nBinomial(p1=.15, p2=.1, beta=.2)\n",
    "x <- gsDesign(k=4, n.fix=n.fix, beta=.2, sfu=sfLinear, sfupar=c(t,p),\n",
    "sfl=sfLinear, sflpar=c(t,p))\n",
    "plot(x, main=expression(paste(\"Equal \", alpha[i]^{\"+\"}, (0), \" and \",\n",
    "beta[i](delta), \" for each analysis\")))"
   ]
  },
  {
   "cell_type": "markdown",
   "metadata": {},
   "source": [
    "### 4. Designing the Group Sequential Design"
   ]
  },
  {
   "cell_type": "markdown",
   "metadata": {},
   "source": [
    "We will be leveraging the gsDesign R language Package to design the experiment and the detailed documentation \n",
    "on the gsDesign and output is available in the below link. gsDesign helps us in implementing the above \n",
    "discussed ideas by choosing the parameters from the defined set.\n",
    "\n",
    "<b> There are two steps in the process:</b>\n",
    "\n",
    "1. Designing the Group sequential design using gsDesign\n",
    "2. Evaluate the performance of the experiment at interim analysis and decide based on the bounday criteria.\n",
    "\n",
    "<b>Boundary Derivation based on test type (test.type): </b>\n",
    "There are 6 types of design supported in the gsDesign\n",
    "\n",
    "+ 1=one-sided - only considering the Efficacy - upper boundary - Alpha Spending \n",
    "+ 2=two-sided symmetric - Both Efficacy and Futility boundary - Both defined by same function.\n",
    "+ 3=two-sided, asymmetric, beta-spending with binding lower bound \n",
    "+ 4=two-sided, asymmetric, beta-spending with non-binding lower bound\n",
    "+ 5=two-sided, asymmetric, lower bound spending under the null hypothesis with binding lower bound\n",
    "+ 6=two-sided, asymmetric, lower bound spending under the null hypothesis with non-binding lower bound\n",
    "\n",
    "<b> gsDesign function supports unplanned analysis or changing the timing of the analysis \n",
    "by redefining the Interval(n.I) and timing parameters.</b>"
   ]
  },
  {
   "cell_type": "code",
   "execution_count": null,
   "metadata": {},
   "outputs": [],
   "source": [
    "# By default, The design is done for 2 interim and 1 final analysis \n",
    "# with default parameters alpha = 0.025 and beta = 0.8\n",
    "\n",
    "#Calculating the fixed sample size\n",
    "fixedsize <- nBinomial(p1=.15,p2=.10)\n",
    "\n",
    "#equally spaced\n",
    "initialDesign <- gsdesign(n.fix =fixedsize ) \n",
    "\n",
    "# changed the design to accodomate the interim analysis at 25% of fixed sample.\n",
    "changedDesign <- gsdesign(k=4,n.fix =fixedsize, timing =c(0.25,0.33,0.66,1)) \n"
   ]
  },
  {
   "cell_type": "markdown",
   "metadata": {},
   "source": [
    "### 5. Walkthrough Demo\n",
    "I am using one of the successfully completed Fixed sample design based experimentation \n",
    "to show the benefits of Group sequential experimentation. \n",
    "\n",
    "One of the challenges we faced during billing lite experimentation was the low traffic in the intra border LATAM billing with out purchase attempts. on average we were getting 5K attempts whereas we needed an approx sample of 100K and we had to wait to 3 weeks to evaluate the treatment performance.\n",
    "\n",
    "Using the Group Sequential experimentation design we could confirmed the treatments positive performance within the second week itself. This approach would have helped us by making faster decision."
   ]
  },
  {
   "cell_type": "markdown",
   "metadata": {},
   "source": [
    "### 6 Usefull Resources\n",
    "\n",
    "1. gsDesign R Documentations:\n",
    "   + Package Documentation: https://cran.r-project.org/web/packages/gsDesign/gsDesign.pdf\n",
    "   + ReferenceManual: (Takes time to load. Better to download local copy)\n",
    "   https://github.com/subfuzion/gsDesign/blob/master/gsDesign/pkg/gsDesign/inst/doc/gsDesignManual.pdf   \n",
    "   \n",
    "   \n",
    "   \n",
    "2. PASS Tool Documentaion: https://ncss-wpengine.netdna-ssl.com/wp-content/themes/ncss/pdf/Procedures/PASS/Group-Sequential_Non-Inferiority_Tests_for_the_Difference_of_Two_Proportions-Simulation.pdf\n",
    "\n",
    "\n",
    "\n",
    "3. Spending Family Functions: https://support.sas.com/documentation/cdl/en/statug/63033/HTML/default/viewer.htm#statug_seqdesign_sect030.htm\n",
    "   "
   ]
  },
  {
   "cell_type": "code",
   "execution_count": null,
   "metadata": {},
   "outputs": [],
   "source": []
  }
 ],
 "metadata": {
  "kernelspec": {
   "display_name": "R",
   "language": "R",
   "name": "ir"
  }
 },
 "nbformat": 4,
 "nbformat_minor": 2
}
